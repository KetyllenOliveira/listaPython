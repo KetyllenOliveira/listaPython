{
  "nbformat": 4,
  "nbformat_minor": 0,
  "metadata": {
    "colab": {
      "provenance": []
    },
    "kernelspec": {
      "name": "python3",
      "display_name": "Python 3"
    },
    "language_info": {
      "name": "python"
    }
  },
  "cells": [
    {
      "cell_type": "markdown",
      "source": [
        "### 1) Faça um algoritmo que leia os valores A, B, C e imprima na tela se a soma de A + B é menor que C"
      ],
      "metadata": {
        "id": "DYDFpLVefwp5"
      }
    },
    {
      "cell_type": "code",
      "execution_count": null,
      "metadata": {
        "id": "r6Qj8i85fP3t"
      },
      "outputs": [],
      "source": [
        "A = float(input(\"Digite o valor de A: \"))\n",
        "B = float(input(\"Digite o valor de B: \"))\n",
        "C = float(input(\"Digite o valor de C: \"))\n",
        "\n",
        "soma = A + B\n",
        "\n",
        "if soma < C:\n",
        "    print(\"A soma de A + B é menor que C.\")\n",
        "else:\n",
        "    print(\"A soma de A + B não é menor que C.\")\n"
      ]
    },
    {
      "cell_type": "markdown",
      "source": [
        "### 2) Faça um algoritmo que leia o nome, o sexo e o estado civil de uma pessoa. Caso sexo seja “F” e estado civil seja “CASADA”, solicitar o tempo de casada (anos)"
      ],
      "metadata": {
        "id": "l-keOaFlgFfi"
      }
    },
    {
      "cell_type": "code",
      "source": [
        "nome = input(\"Digite o seu nome: \")\n",
        "sexo = input(\"Digite o seu sexo (M/F): \").strip().upper()\n",
        "estado_civil = input(\"Digite o seu estado civil (SOLTEIRA/SOLTEIRO/CASADA/CASADO): \").strip().upper()\n",
        "\n",
        "if sexo == \"F\" and estado_civil == \"CASADA\":\n",
        "    tempo_casada = int(input(\"Digite o tempo de casada (em anos): \"))\n",
        "    print(f\"{nome}, você está casada há {tempo_casada} anos.\")\n",
        "else:\n",
        "    print(f\"{nome}, obrigado(a) pelas informações.\")\n"
      ],
      "metadata": {
        "id": "vqfi4J7ogLdY"
      },
      "execution_count": null,
      "outputs": []
    },
    {
      "cell_type": "markdown",
      "source": [
        "### 3) Faça um algoritmo para receber um número qualquer e informar na tela se é par ou ímpar."
      ],
      "metadata": {
        "id": "D2Pp6DzAgTVG"
      }
    },
    {
      "cell_type": "code",
      "source": [
        "numero = int(input(\"Digite um número: \"))\n",
        "\n",
        "if numero % 2 == 0:\n",
        "    print(f\"O número {numero} é par.\")\n",
        "else:\n",
        "    print(f\"O número {numero} é ímpar.\")\n"
      ],
      "metadata": {
        "id": "tY3_qphFgWPa"
      },
      "execution_count": null,
      "outputs": []
    },
    {
      "cell_type": "markdown",
      "source": [
        "### 4) Faça um algoritmo que leia dois valores inteiros A e B se os valores forem iguais deverá se somar os dois, caso contrário multiplique A por B. Ao final de qualquer um dos cálculos deve-se atribuir o resultado para uma variável C e mostrar seu conteúdo na tela."
      ],
      "metadata": {
        "id": "YR_ycscngdFa"
      }
    },
    {
      "cell_type": "code",
      "source": [
        "A = int(input(\"Digite o valor de A: \"))\n",
        "B = int(input(\"Digite o valor de B: \"))\n",
        "\n",
        "if A == B:\n",
        "    C = A + B\n",
        "else:\n",
        "    C = A * B\n",
        "\n",
        "\n",
        "print(f\"O resultado é: {C}\")\n",
        "\n"
      ],
      "metadata": {
        "id": "JjKFASD_glox"
      },
      "execution_count": null,
      "outputs": []
    },
    {
      "cell_type": "markdown",
      "source": [
        "### 5) Encontrar o dobro de um número caso ele seja positivo e o seu triplo caso seja negativo, imprimindo o resultado"
      ],
      "metadata": {
        "id": "6u1L2lVVhCZe"
      }
    },
    {
      "cell_type": "code",
      "source": [
        "numero = float(input(\"Digite um número: \"))\n",
        "\n",
        "if numero > 0:\n",
        "    resultado = numero * 2\n",
        "else:\n",
        "    resultado = numero * 3\n",
        "\n",
        "print(f\"O resultado é: {resultado}\")\n"
      ],
      "metadata": {
        "id": "jJL3lMc2hIF1"
      },
      "execution_count": null,
      "outputs": []
    },
    {
      "cell_type": "markdown",
      "source": [
        "### 6) Escreva um algoritmo que lê dois valores booleanos (lógicos) e então determina se ambos são VERDADEIROS ou FALSOS"
      ],
      "metadata": {
        "id": "tUkWkqaQhRKT"
      }
    },
    {
      "cell_type": "code",
      "source": [
        "valor1 = input(\"Digite o primeiro valor booleano (True/False): \").strip().capitalize()\n",
        "valor2 = input(\"Digite o segundo valor booleano (True/False): \").strip().capitalize()\n",
        "\n",
        "valor1 = valor1 == 'True'\n",
        "valor2 = valor2 == 'True'\n",
        "\n",
        "if valor1 == valor2:\n",
        "    if valor1:\n",
        "        print(\"Ambos os valores são VERDADEIROS.\")\n",
        "    else:\n",
        "        print(\"Ambos os valores são FALSOS.\")\n",
        "else:\n",
        "    print(\"Os valores são diferentes.\")\n"
      ],
      "metadata": {
        "id": "DBrOIip2hWFJ"
      },
      "execution_count": null,
      "outputs": []
    },
    {
      "cell_type": "markdown",
      "source": [
        "### 7) Faça um algoritmo que leia uma variável e some 5 caso seja par ou some 8 caso seja ímpar, imprimir o resultado desta operação"
      ],
      "metadata": {
        "id": "c0eYBU0Zhpvd"
      }
    },
    {
      "cell_type": "code",
      "source": [
        "numero = int(input(\"Digite um número: \"))\n",
        "\n",
        "if numero % 2 == 0:\n",
        "    resultado = numero + 5\n",
        "else:\n",
        "    resultado = numero + 8\n",
        "print(f\"O resultado é: {resultado}\")\n"
      ],
      "metadata": {
        "id": "48E2FUuEhsD-"
      },
      "execution_count": null,
      "outputs": []
    },
    {
      "cell_type": "markdown",
      "source": [
        "### 8) Escreva um algoritmo que leia três valores inteiros e diferentes e mostre-os em ordem decrescente"
      ],
      "metadata": {
        "id": "wD8wGQGch28h"
      }
    },
    {
      "cell_type": "code",
      "source": [
        "valor1 = int(input(\"Digite o primeiro valor inteiro: \"))\n",
        "valor2 = int(input(\"Digite o segundo valor inteiro: \"))\n",
        "valor3 = int(input(\"Digite o terceiro valor inteiro: \"))\n",
        "\n",
        "valores = [valor1, valor2, valor3]\n",
        "\n",
        "valores.sort(reverse=True)\n",
        "\n",
        "print(\"Os valores em ordem decrescente são:\")\n",
        "for valor in valores:\n",
        "    print(valor)\n"
      ],
      "metadata": {
        "id": "Obc4kLFbh7PE"
      },
      "execution_count": null,
      "outputs": []
    },
    {
      "cell_type": "markdown",
      "source": [
        "### 9) Tendo como dados de entrada a altura e o sexo de uma pessoa, construa um algoritmo que calcule seu peso ideal, utilizando as seguintes fórmulas:\n",
        "### ● para homens: (72.7 * h) – 58;\n",
        "### ● para mulheres: (62.1 * h) – 44.7"
      ],
      "metadata": {
        "id": "5Tbki7-8iPUq"
      }
    },
    {
      "cell_type": "code",
      "source": [
        "altura = float(input(\"Digite a sua altura em metros: \"))\n",
        "sexo = input(\"Digite o seu sexo (M para masculino / F para feminino): \").strip().upper()\n",
        "\n",
        "if sexo == 'M':\n",
        "    peso_ideal = (72.7 * altura) - 58\n",
        "elif sexo == 'F':\n",
        "    peso_ideal = (62.1 * altura) - 44.7\n",
        "else:\n",
        "    print(\"Sexo inválido. Por favor, digite 'M' para masculino ou 'F' para feminino.\")\n",
        "    peso_ideal = None\n",
        "\n",
        "if peso_ideal is not None:\n",
        "    print(f\"O peso ideal para uma altura de {altura} metros e sexo '{sexo}' é: {peso_ideal:.2f} kg\")\n"
      ],
      "metadata": {
        "id": "F98XphxDiVPn"
      },
      "execution_count": null,
      "outputs": []
    },
    {
      "cell_type": "markdown",
      "source": [
        "### 10) O IMC – Indice de Massa Corporal é um critério da Organização Mundial de Saúde para dar uma indicação sobre a condição de peso de uma pessoa adulta. A fórmula é IMC = peso / ( altura )2. Elabore um algoritmo que leia o peso e a altura de um adulto e mostre sua condição de acordo  com a tabela abaixo.\n",
        "\n",
        "- IMC em adultos Condição\n",
        "- Abaixo de 18,5 Abaixo do peso\n",
        "- Entre 18,5 e 25 Peso normal\n",
        "- Entre 25 e 30 Acima do peso\n",
        "- Acima de 30 obeso"
      ],
      "metadata": {
        "id": "DBZBmq5DihaN"
      }
    },
    {
      "cell_type": "code",
      "source": [
        "peso = float(input(\"Digite o seu peso em kg: \"))\n",
        "altura = float(input(\"Digite a sua altura em metros: \"))\n",
        "\n",
        "imc = peso / (altura ** 2)\n",
        "\n",
        "# Determina a condição com base no IMC\n",
        "if imc < 18.5:\n",
        "    condicao = \"Abaixo do peso\"\n",
        "elif 18.5 <= imc < 25:\n",
        "    condicao = \"Peso normal\"\n",
        "elif 25 <= imc < 30:\n",
        "    condicao = \"Acima do peso\"\n",
        "else:\n",
        "    condicao = \"Obeso\"\n",
        "\n",
        "print(f\"O seu IMC é: {imc:.2f}\")\n",
        "print(f\"Condição: {condicao}\")\n"
      ],
      "metadata": {
        "id": "-tUxNVzPivmV"
      },
      "execution_count": null,
      "outputs": []
    },
    {
      "cell_type": "markdown",
      "source": [
        "### 11) Elabore um algoritmo que calcule o que deve ser pago por um produto, considerando o preço normal deetiqueta e a escolha da condição de pagamento. Utilize os códigos da tabela a seguir para ler qual acondição de pagamento escolhida e efetuar o cálculo adequado.\n",
        "\n",
        "- Código Condição de pagamento\n",
        "- 1 À vista em dinheiro ou cheque, recebe 10% de desconto\n",
        "- 2 À vista no cartão de crédito, recebe 15% de desconto\n",
        "- 3 Em duas vezes, preço normal de etiqueta sem juros\n",
        "- 4 Em duas vezes, preço normal de etiqueta mais juros de 10%"
      ],
      "metadata": {
        "id": "i-Er_wURi-kz"
      }
    },
    {
      "cell_type": "code",
      "source": [
        "preco = float(input(\"Digite o preço do produto: R$ \"))\n",
        "\n",
        "print(\"Escolha a condição de pagamento:\")\n",
        "print(\"1 - À vista em dinheiro ou cheque (10% de desconto)\")\n",
        "print(\"2 - À vista no cartão de crédito (15% de desconto)\")\n",
        "print(\"3 - Em duas vezes (preço normal sem juros)\")\n",
        "print(\"4 - Em duas vezes (preço normal mais juros de 10%)\")\n",
        "codigo = int(input(\"Digite o código da condição de pagamento: \"))\n",
        "\n",
        "\n",
        "if codigo == 1:\n",
        "    valor_final = preco * 0.90\n",
        "    condicao = \"À vista em dinheiro ou cheque\"\n",
        "elif codigo == 2:\n",
        "    valor_final = preco * 0.85\n",
        "    condicao = \"À vista no cartão de crédito\"\n",
        "elif codigo == 3:\n",
        "    valor_final = preco\n",
        "    condicao = \"Em duas vezes (preço normal sem juros)\"\n",
        "elif codigo == 4:\n",
        "    valor_final = preco * 1.10\n",
        "    condicao = \"Em duas vezes (preço normal mais juros de 10%)\"\n",
        "else:\n",
        "    print(\"Código de condição de pagamento inválido.\")\n",
        "    valor_final = None\n",
        "    condicao = None\n",
        "\n",
        "if valor_final is not None:\n",
        "    print(f\"Condição de pagamento: {condicao}\")\n",
        "    print(f\"Valor final a ser pago: R$ {valor_final:.2f}\")\n"
      ],
      "metadata": {
        "id": "nnQSgf0NjDdt"
      },
      "execution_count": null,
      "outputs": []
    },
    {
      "cell_type": "markdown",
      "source": [
        "### 12) Escreva um algoritmo que leia o número de identificação, as 3 notas obtidas por um aluno nas 3 verificações e a média dos exercícios que fazem parte da avaliação, e calcule a média de aproveitamento, usando a fórmula:\n",
        "- MA := (nota1 + nota 2 * 2 + nota 3 * 3 + ME)/7\n",
        "\n",
        "### A atribuição dos conceitos obedece a tabela abaixo. O algoritmo deve escrever o número do aluno, suas notas, a média dos exercícios, a média de aproveitamento, o conceito correspondente e a mensagem 'Aprovado' se o conceito for A, B ou C, e 'Reprovado' se o conceito for D ou E.\n",
        "\n",
        "### Média de aproveitamento Conceito\n",
        "- >= 90 A\n",
        "- >= 75 e < 90 B\n",
        "- >= 60 e < 75 C\n",
        "- >= 40 e < 60 D\n",
        "- < 40 E"
      ],
      "metadata": {
        "id": "TiLOSElfjTe9"
      }
    },
    {
      "cell_type": "code",
      "source": [
        "numero_identificacao = input(\"Digite o número de identificação do aluno: \")\n",
        "\n",
        "nota1 = float(input(\"Digite a nota 1: \"))\n",
        "nota2 = float(input(\"Digite a nota 2: \"))\n",
        "nota3 = float(input(\"Digite a nota 3: \"))\n",
        "\n",
        "media_exercicios = float(input(\"Digite a média dos exercícios: \"))\n",
        "\n",
        "media_aproveitamento = (nota1 + (nota2 * 2) + (nota3 * 3) + media_exercicios) / 7\n",
        "\n",
        "if media_aproveitamento >= 90:\n",
        "    conceito = 'A'\n",
        "elif media_aproveitamento >= 75:\n",
        "    conceito = 'B'\n",
        "elif media_aproveitamento >= 60:\n",
        "    conceito = 'C'\n",
        "elif media_aproveitamento >= 40:\n",
        "    conceito = 'D'\n",
        "else:\n",
        "    conceito = 'E'\n",
        "\n",
        "situacao = \"Aprovado\" if conceito in ['A', 'B', 'C'] else \"Reprovado\"\n",
        "\n",
        "print(f\"Número de Identificação: {numero_identificacao}\")\n",
        "print(f\"Nota 1: {nota1:.2f}\")\n",
        "print(f\"Nota 2: {nota2:.2f}\")\n",
        "print(f\"Nota 3: {nota3:.2f}\")\n",
        "print(f\"Média dos Exercícios: {media_exercicios:.2f}\")\n",
        "print(f\"Média de Aproveitamento: {media_aproveitamento:.2f}\")\n",
        "print(f\"Conceito: {conceito}\")\n",
        "print(f\"Situação: {situacao}\")\n"
      ],
      "metadata": {
        "id": "YcZQp3IPjni5"
      },
      "execution_count": null,
      "outputs": []
    }
  ]
}