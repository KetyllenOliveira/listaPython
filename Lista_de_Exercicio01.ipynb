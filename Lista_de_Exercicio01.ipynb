{
  "nbformat": 4,
  "nbformat_minor": 0,
  "metadata": {
    "colab": {
      "provenance": []
    },
    "kernelspec": {
      "name": "python3",
      "display_name": "Python 3"
    },
    "language_info": {
      "name": "python"
    }
  },
  "cells": [
    {
      "cell_type": "markdown",
      "source": [
        "\n",
        "### 1) Desenvolver um algoritmo que efetue a soma de todos os números ímpares que são múltiplos de três e que se encontram no conjunto dos números de 1 até 500\n"
      ],
      "metadata": {
        "id": "c5dpqJS4ZiXL"
      }
    },
    {
      "cell_type": "code",
      "execution_count": 1,
      "metadata": {
        "colab": {
          "base_uri": "https://localhost:8080/"
        },
        "id": "E7KjH5ZNZQU5",
        "outputId": "e5bf0401-e218-4b7e-b02d-afff90f923ab"
      },
      "outputs": [
        {
          "output_type": "stream",
          "name": "stdout",
          "text": [
            "A soma de todos os números ímpares que são múltiplos de três entre 1 e 500 é: 20667\n"
          ]
        }
      ],
      "source": [
        "soma = 0\n",
        "\n",
        "for numero in range (1,501):\n",
        "  if numero  %2 !=0 and numero % 3 == 0:\n",
        "    soma += numero\n",
        "print(f\"A soma de todos os números ímpares que são múltiplos de três entre 1 e 500 é: {soma}\")"
      ]
    },
    {
      "cell_type": "markdown",
      "source": [
        "### 2) Desenvolver um algoritmo que leia a altura de 15 pessoas. Este programa deverá calcular e\n",
        "mostrar :\n",
        "### a. A menor altura do grupo;\n",
        "### b. A maior altura do grupo;"
      ],
      "metadata": {
        "id": "nBO4sRuRbkYp"
      }
    },
    {
      "cell_type": "code",
      "source": [
        "\n",
        "alturas = []\n",
        "\n",
        "for i in range(1, 16):\n",
        "    altura = float(input(f\"Digite a altura da pessoa {i}: \"))\n",
        "    alturas.append(altura)\n",
        "\n",
        "\n",
        "menor_altura = min(alturas)\n",
        "maior_altura = max(alturas)\n",
        "\n",
        "print(f\"A menor altura do grupo é: {menor_altura:.2f} metros\")\n",
        "print(f\"A maior altura do grupo é: {maior_altura:.2f} metros\")\n"
      ],
      "metadata": {
        "colab": {
          "base_uri": "https://localhost:8080/"
        },
        "id": "Xf5iGQwYbqQm",
        "outputId": "de76622a-2add-4b49-8b6c-13fba395dfe4"
      },
      "execution_count": 3,
      "outputs": [
        {
          "output_type": "stream",
          "name": "stdout",
          "text": [
            "Digite a altura da pessoa 1: 1.9\n",
            "Digite a altura da pessoa 2: 1.63\n",
            "Digite a altura da pessoa 3: 1.78\n",
            "Digite a altura da pessoa 4: 1.98\n",
            "Digite a altura da pessoa 5: 1.76\n",
            "Digite a altura da pessoa 6: 1.65\n",
            "Digite a altura da pessoa 7: 1.67\n",
            "Digite a altura da pessoa 8: 1.87\n",
            "Digite a altura da pessoa 9: 1.65\n",
            "Digite a altura da pessoa 10: 1.54\n",
            "Digite a altura da pessoa 11: 1.87\n",
            "Digite a altura da pessoa 12: 1.98\n",
            "Digite a altura da pessoa 13: 1.87\n",
            "Digite a altura da pessoa 14: 1.87\n",
            "Digite a altura da pessoa 15: 1.65\n",
            "A menor altura do grupo é: 1.54 metros\n",
            "A maior altura do grupo é: 1.98 metros\n"
          ]
        }
      ]
    },
    {
      "cell_type": "markdown",
      "source": [
        "### 3) Desenvolver um algoritmo que leia um número não determinado de valores e calcule e escreva a média aritmética dos valores lidos, a quantidade de valores positivos, a quantidade de valores negativos e o percentual de valores negativos e positivos"
      ],
      "metadata": {
        "id": "NzZIBH_8cJSh"
      }
    },
    {
      "cell_type": "code",
      "source": [
        "\n",
        "soma = 0\n",
        "quantidade_total = 0\n",
        "quantidade_positivos = 0\n",
        "quantidade_negativos = 0\n",
        "\n",
        "print(\"Digite os números (digite 0 para encerrar):\")\n",
        "\n",
        "\n",
        "while True:\n",
        "    valor = float(input(\"Digite um valor: \"))\n",
        "\n",
        "    ,\n",
        "    if valor == 0:\n",
        "        break\n",
        "\n",
        "    # Atualiza a soma e a quantidade total de valores\n",
        "    soma += valor\n",
        "    quantidade_total += 1\n",
        "\n",
        "    # Conta os valores positivos e negativos\n",
        "    if valor > 0:\n",
        "        quantidade_positivos += 1\n",
        "    elif valor < 0:\n",
        "        quantidade_negativos += 1\n",
        "\n",
        "\n",
        "if quantidade_total > 0:\n",
        "    media_aritmetica = soma / quantidade_total\n",
        "    percentual_positivos = (quantidade_positivos / quantidade_total) * 100\n",
        "    percentual_negativos = (quantidade_negativos / quantidade_total) * 100\n",
        "\n",
        "\n",
        "    print(f\"\\nMédia aritmética dos valores lidos: {media_aritmetica:.2f}\")\n",
        "    print(f\"Quantidade de valores positivos: {quantidade_positivos}\")\n",
        "    print(f\"Quantidade de valores negativos: {quantidade_negativos}\")\n",
        "    print(f\"Percentual de valores positivos: {percentual_positivos:.2f}%\")\n",
        "    print(f\"Percentual de valores negativos: {percentual_negativos:.2f}%\")\n",
        "else:\n",
        "    print(\"\\nNenhum valor válido foi inserido.\")\n"
      ],
      "metadata": {
        "colab": {
          "base_uri": "https://localhost:8080/"
        },
        "id": "54yaBKwlcRXe",
        "outputId": "b0452907-b872-47a7-8e38-40e9ab8e7dbf"
      },
      "execution_count": 4,
      "outputs": [
        {
          "output_type": "stream",
          "name": "stdout",
          "text": [
            "Digite os números (digite 0 para encerrar):\n",
            "Digite um valor: 3\n",
            "Digite um valor: 9\n",
            "Digite um valor: 2\n",
            "Digite um valor: 7\n",
            "Digite um valor: 9\n",
            "Digite um valor: 10\n",
            "Digite um valor: 2\n",
            "Digite um valor: 7\n",
            "Digite um valor: 8\n",
            "Digite um valor: 9\n",
            "Digite um valor: 10\n",
            "Digite um valor: 21\n",
            "Digite um valor: 11\n",
            "Digite um valor: 23\n",
            "Digite um valor: 21\n",
            "Digite um valor: 12\n",
            "Digite um valor: 32\n",
            "Digite um valor: 21\n",
            "Digite um valor: 12\n",
            "Digite um valor: 23\n",
            "Digite um valor: 98\n",
            "Digite um valor: 67\n",
            "Digite um valor: 87\n",
            "Digite um valor: 98\n",
            "Digite um valor: 987\n",
            "Digite um valor: 1000\n",
            "Digite um valor: 87\n",
            "Digite um valor: 585\n",
            "Digite um valor: 897\n",
            "Digite um valor: 233\n",
            "Digite um valor: 2312\n",
            "Digite um valor: 23123\n",
            "Digite um valor: 51654\n",
            "Digite um valor: 4165456\n",
            "Digite um valor: 54654654\n",
            "Digite um valor: 4654564\n",
            "Digite um valor: 545555\n",
            "Digite um valor: 52165156\n",
            "Digite um valor: 5165653\n",
            "Digite um valor: 3153513513513\n",
            "Digite um valor: 51516516516516\n",
            "Digite um valor: 3215\n",
            "Digite um valor: 561651\n",
            "Digite um valor: 51313513515131325\n",
            "Digite um valor: 351515313\n",
            "Digite um valor: 155135153\n",
            "Digite um valor: 0\n",
            "\n",
            "Média aritmética dos valores lidos: 1116699655952374.12\n",
            "Quantidade de valores positivos: 46\n",
            "Quantidade de valores negativos: 0\n",
            "Percentual de valores positivos: 100.00%\n",
            "Percentual de valores negativos: 0.00%\n"
          ]
        }
      ]
    },
    {
      "cell_type": "markdown",
      "source": [
        "### 4) Escrever um algoritmo que leia uma quantidade desconhecida de números e conte quantos deles estão nos seguintes intervalos: [0-25], [26-50], [51-75] e [76-100]. A entrada de dados deve terminar quando for lido um número negativo"
      ],
      "metadata": {
        "id": "EhkhssHZdNZ6"
      }
    },
    {
      "cell_type": "code",
      "source": [
        "\n",
        "contador_0_25 = 0\n",
        "contador_26_50 = 0\n",
        "contador_51_75 = 0\n",
        "contador_76_100 = 0\n",
        "\n",
        "print(\"Digite os números (digite um número negativo para encerrar):\")\n",
        "\n",
        "\n",
        "while True:\n",
        "    numero = float(input(\"Digite um número: \"))\n",
        "\n",
        "    if numero < 0:\n",
        "        break\n",
        "\n",
        "\n",
        "    if 0 <= numero <= 25:\n",
        "        contador_0_25 += 1\n",
        "    elif 26 <= numero <= 50:\n",
        "        contador_26_50 += 1\n",
        "    elif 51 <= numero <= 75:\n",
        "        contador_51_75 += 1\n",
        "    elif 76 <= numero <= 100:\n",
        "        contador_76_100 += 1\n",
        "\n",
        "print(f\"\\nQuantidade de números no intervalo [0-25]: {contador_0_25}\")\n",
        "print(f\"Quantidade de números no intervalo [26-50]: {contador_26_50}\")\n",
        "print(f\"Quantidade de números no intervalo [51-75]: {contador_51_75}\")\n",
        "print(f\"Quantidade de números no intervalo [76-100]: {contador_76_100}\")\n"
      ],
      "metadata": {
        "id": "esitOvX8dNtG"
      },
      "execution_count": null,
      "outputs": []
    },
    {
      "cell_type": "markdown",
      "source": [
        "### 5) Faça um algoritmo estruturado que leia uma quantidade não determinada de números positivos.Calcule a quantidade de números pares e ímpares, a média de valores pares e a média geral dos números lidos. O número que encerrará a leitura será zero"
      ],
      "metadata": {
        "id": "rBpxKFXGdlbr"
      }
    },
    {
      "cell_type": "code",
      "source": [
        "soma_pares = 0\n",
        "soma_total = 0\n",
        "contador_pares = 0\n",
        "contador_impares = 0\n",
        "contador_total = 0\n",
        "\n",
        "print(\"Digite os números positivos (digite 0 para encerrar):\")\n",
        "\n",
        "while True:\n",
        "    numero = float(input(\"Digite um número: \"))\n",
        "\n",
        "\n",
        "    if numero == 0:\n",
        "        break\n",
        "\n",
        "\n",
        "    if numero > 0:\n",
        "\n",
        "        soma_total += numero\n",
        "        contador_total += 1\n",
        "\n",
        "\n",
        "        if numero % 2 == 0:\n",
        "            soma_pares += numero\n",
        "            contador_pares += 1\n",
        "        else:\n",
        "            contador_impares += 1\n",
        "\n",
        "if contador_pares > 0:\n",
        "    media_pares = soma_pares / contador_pares\n",
        "else:\n",
        "    media_pares = 0\n",
        "\n",
        "if contador_total > 0:\n",
        "    media_geral = soma_total / contador_total\n",
        "else:\n",
        "    media_geral = 0\n",
        "\n",
        "\n",
        "print(f\"\\nQuantidade de números pares: {contador_pares}\")\n",
        "print(f\"Quantidade de números ímpares: {contador_impares}\")\n",
        "print(f\"Média dos valores pares: {media_pares:.2f}\")\n",
        "print(f\"Média geral dos números lidos: {media_geral:.2f}\")\n"
      ],
      "metadata": {
        "id": "4CZs241ldpjy"
      },
      "execution_count": null,
      "outputs": []
    },
    {
      "cell_type": "markdown",
      "source": [
        "### 6) Escrever um algoritmo que gera e escreve os números ímpares entre 100 e 200."
      ],
      "metadata": {
        "id": "-UBnSaBdeArf"
      }
    },
    {
      "cell_type": "code",
      "source": [
        "for numero in range(100, 201):\n",
        "    if numero % 2 != 0:\n",
        "        print(numero)\n"
      ],
      "metadata": {
        "id": "IG6QmD8heFkZ"
      },
      "execution_count": null,
      "outputs": []
    },
    {
      "cell_type": "markdown",
      "source": [
        "### 7) Escrever um algoritmo que leia um valor para uma variável N de 1 a 10 e calcule a tabuada de N. Mostre a tabuada na forma: 0 x N = 0, 1 x N = 1N, 2 x N = 2N, ..., 10 x N = 10N"
      ],
      "metadata": {
        "id": "RdYdzwqjeOBb"
      }
    },
    {
      "cell_type": "code",
      "source": [
        "while True:\n",
        "    N = int(input(\"Digite um valor para N (entre 1 e 10): \"))\n",
        "    if 1 <= N <= 10:\n",
        "        break\n",
        "    else:\n",
        "        print(\"Por favor, insira um número entre 1 e 10.\")\n",
        "\n",
        "print(f\"\\nTabuada de {N}:\")\n",
        "for i in range(11):\n",
        "    resultado = i * N\n",
        "    print(f\"{i} x {N} = {resultado}\")\n"
      ],
      "metadata": {
        "id": "i9hQnOL8eR3I"
      },
      "execution_count": null,
      "outputs": []
    },
    {
      "cell_type": "markdown",
      "source": [
        "### 8) Escreva um algoritmo que leia um valor inicial A e uma razão R e imprima uma seqüência em P.A. contendo 10 valores"
      ],
      "metadata": {
        "id": "n8PHbo49ehQo"
      }
    },
    {
      "cell_type": "code",
      "source": [
        "A = float(input(\"Digite o valor inicial A: \"))\n",
        "R = float(input(\"Digite a razão R: \"))\n",
        "\n",
        "print(\"\\nSequência de PA com 10 termos:\")\n",
        "for i in range(10):\n",
        "    termo = A + i * R\n",
        "    print(termo)\n"
      ],
      "metadata": {
        "id": "W9a5i3-Ien7m"
      },
      "execution_count": null,
      "outputs": []
    },
    {
      "cell_type": "markdown",
      "source": [
        "### 9) Escreva um algoritmo que leia um valor inicial A e uma razão R e imprima uma seqüência em P.G. contendo 10 valores"
      ],
      "metadata": {
        "id": "ynAQM1K9es0D"
      }
    },
    {
      "cell_type": "code",
      "source": [
        "A = float(input(\"Digite o valor inicial A: \"))\n",
        "R = float(input(\"Digite a razão R: \"))\n",
        "\n",
        "print(\"\\nSequência de PA com 10 termos:\")\n",
        "for i in range(10):\n",
        "    termo = A + i * R\n",
        "    print(termo)\n"
      ],
      "metadata": {
        "id": "uxnLUez1exap"
      },
      "execution_count": null,
      "outputs": []
    },
    {
      "cell_type": "markdown",
      "source": [
        "### 10) Escreva um algoritmo que leia um valor inicial A e imprima a seqüência de valores do cálculo de A! e o seu resultado. Ex: 5! = 5 X 4 X 3 X 2 X 1 = 120"
      ],
      "metadata": {
        "id": "No8ciSnDe8UR"
      }
    },
    {
      "cell_type": "code",
      "source": [
        "A = int(input(\"Digite um valor inicial A: \"))\n",
        "\n",
        "fatorial = 1\n",
        "\n",
        "print(f\"\\n{A}! = \", end=\"\")\n",
        "\n",
        "for i in range(A, 0, -1):\n",
        "    fatorial *= i\n",
        "    print(i, end=\" \")\n",
        "    if i > 1:\n",
        "        print(\"x\", end=\" \")\n",
        "    else:\n",
        "        print(\"= \", end=\"\")\n",
        "\n",
        "print(fatorial)\n"
      ],
      "metadata": {
        "id": "LmoJJCokfG-q"
      },
      "execution_count": null,
      "outputs": []
    }
  ]
}